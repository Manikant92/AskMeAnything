{
 "cells": [
  {
   "cell_type": "code",
   "execution_count": 74,
   "metadata": {},
   "outputs": [],
   "source": [
    "import numpy as np\n",
    "import requests\n",
    "import html2text\n",
    "from googlesearch import search\n",
    "import json\n",
    "import re\n",
    "from simpletransformers.question_answering import QuestionAnsweringModel\n",
    "from IPython.display import display\n",
    "from IPython.html import widgets\n",
    "from bs4 import BeautifulSoup\n",
    "from markdown import markdown"
   ]
  },
  {
   "cell_type": "code",
   "execution_count": 64,
   "metadata": {},
   "outputs": [],
   "source": [
    "def query_pages(query, n=5):\n",
    "    return list(search(query, num=n, stop=n, pause=2))\n",
    "\n",
    "def query_to_text(query, n=5):\n",
    "    html_conv = html2text.HTML2Text()\n",
    "    html_conv.ignore_links = True\n",
    "    html_conv.escape_all = True\n",
    "    \n",
    "    text = []\n",
    "    for link in query_pages(query, n):\n",
    "        req = requests.get(link)\n",
    "        text.append(html_conv.handle(req.text))\n",
    "        \n",
    "    return text"
   ]
  },
  {
   "cell_type": "code",
   "execution_count": 75,
   "metadata": {},
   "outputs": [],
   "source": [
    "# Source: https://gist.github.com/lorey/eb15a7f3338f959a78cc3661fbc255fe\n",
    "def markdown_to_text(markdown_string):\n",
    "    \"\"\" Converts a markdown string to plaintext \"\"\"\n",
    "\n",
    "    # md -> html -> text since BeautifulSoup can extract text cleanly\n",
    "    html = markdown(markdown_string)\n",
    "\n",
    "    # remove code snippets\n",
    "    html = re.sub(r'<pre>(.*?)</pre>', ' ', html)\n",
    "    html = re.sub(r'<code>(.*?)</code >', ' ', html)\n",
    "\n",
    "    # extract text\n",
    "    soup = BeautifulSoup(html, \"html.parser\")\n",
    "    text = ''.join(soup.findAll(text=True))\n",
    "\n",
    "    return text\n",
    "\n",
    "def format_text(text):\n",
    "    text = markdown_to_text(text)\n",
    "    text.replace('\\n', ' ')\n",
    "#     text = re.sub(r'^https?:\\/\\/.*[\\r\\n]*', '', text, flags=re.MULTILINE)\n",
    "#     text = re.sub(r'^http?:\\/\\/.*[\\r\\n]*', '', text, flags=re.MULTILINE)\n",
    "    return text"
   ]
  },
  {
   "cell_type": "code",
   "execution_count": 76,
   "metadata": {},
   "outputs": [
    {
     "data": {
      "text/plain": [
       "\"writing\\nHow ToGrammar TipsTrendsInspiration\\nProductCompany\\nstart writing\\n\\n\\n\\n\\n\\nCan You Call Your Thumb a Finger?\\nShundalyn Allen\\nWriting\\n\\nA thumb is a digit, but not technically a finger.\\nMany people don’t make the distinction between thumbs and other digits.\\n\\n\\nHow many fingers do you have? Your answer might depend on whether you consider\\nyour thumb to be a finger. Let’s look into whether or not you can accurately\\ncall your thumb a finger.\\nHere’s a tip: Want to make sure your writing always looks great? Grammarly\\ncan save you from misspellings, grammatical and punctuation mistakes, and\\nother writing issues on all your favorite websites.\\nYour writing, at its best.\\nBe the best writer in the office.\\nGet Grammarly\\nFinger Definition\\nIf you look up finger on OxfordDictionaries.com, you will find this\\ndefinition: “Each of the four slender jointed parts attached to either hand. .\\n.” Doesn’t this definition seem to exclude the thumb? Why exclude it?\\nThumb vs. Finger\\nYour thumb is different from your fingers. Your fingers have two joints and\\nthree bones called phalanges or phalanxes. A thumb only has one joint and two\\nphalanges. Anatomically, a thumb is unique. The position also sets the thumb\\napart. The thumb is out to the side of the hand and lower than the four\\nfingers. So if a thumb is not really a finger, what is it?\\nThumb Definition\\nThumb refers to the first digit of the human hand, set apart and opposable to\\nthe other four digits of the hand. Appendages like your fingers, toes, and\\nthumbs are digits. So humans usually have five digits per hand, one of which\\nis the thumb.\\nThumb and Finger Examples\\nWhat about in practice? Do writers make the distinction between thumbs and\\nfingers? Let’s look at some examples:\\nMeanwhile, the original poster, who wished to be identified as Vicky,\\nexplained to Buzzfeed that her photo was staged as a joke – and she does\\nindeed have five fingers after all.\\nNews.com.au\\n“We had an ultrasound,” said his mom, Sheryl Lilya. “And they were going,\\n‘There’s the five fingers, there’s five fingers here.”\\nCBS Minnesota\\nIt's very close to a human hand in the way it operates, even though it doesn't\\nhave four fingers and a thumb.\\nARS Technica Uk\\nFleck, asked what kind of television rating he expects Tuesday when WMU plays\\nat Kent State, curled his four fingers onto the tip of his thumb to form a\\nzero.\\nM Live\\nWhat has four fingers and a thumb, but no hand?\\nPersephone Magazine\\nAs the examples indicate, some people make the distinction, some don’t, and\\nothers only do to contrast the fingers with the thumb. Whether you make the\\ndistinction will probably depend on your personality and your audience. Are\\nyou wondering about the answer to the riddle from Persephone Magazine? It’s a\\nglove!\\n\\nYour writing, at its best.\\nGet Grammarly for free\\nWorks on all your favorite websites\\n\\nRelated Articles\\nWritingGrammarly’s Writing Encyclopedia: 2019 in Language\\nFrom A to ZWriting5 Most Effective\\nMethods for Avoiding PlagiarismWritingRecent\\nGrad? Here's How to Approach Your Job SearchWritingAn\\nArgument for Exclamation Points (!!!)WritingHow to Ask for HelpWritingThe\\nDos and Don’ts of Business Email Etiquette\\nWriting, grammar, and communication tips for your inbox.\\nsubscribe\\nYou have been successfully subscribed to the Grammarly blog.\\nView Comments\\nproductPlansGrammarly PremiumGrammarly BusinessGrammarly @eduGrammarly Desktop\\nAppsThe Grammarly KeyboardGrammarly for MS OfficecompanyAboutCareers &\\nCultureBlogPressAffiliatesContact UsfeaturesProduct Feature NewsTone\\nDetectorGrammar CheckerPlagiarism CheckersupportHelp CenterPrivacy PolicyTerms\\nof ServiceSecuritycommunityFacebookInstagramTwitterLinkedIn\\n2019 © Grammarly Inc.\""
      ]
     },
     "execution_count": 76,
     "metadata": {},
     "output_type": "execute_result"
    }
   ],
   "source": [
    "format_text(query_to_text('How many fingers do humans have?', n=1)[0])"
   ]
  },
  {
   "cell_type": "code",
   "execution_count": 3,
   "metadata": {},
   "outputs": [],
   "source": []
  },
  {
   "cell_type": "code",
   "execution_count": 59,
   "metadata": {},
   "outputs": [],
   "source": [
    "def create_model():\n",
    "     return QuestionAnsweringModel('distilbert', 'distilbert-base-uncased-distilled-squad')\n",
    "    \n",
    "def predict_answer(model, question, contexts, seq_len=512, debug=False):\n",
    "    split_context = []\n",
    "    \n",
    "    if not isinstance(contexts, list):\n",
    "        contexts = [contexts]\n",
    "    \n",
    "    for context in contexts:\n",
    "        for i in range(0, len(context), seq_len):\n",
    "            split_context.append(context[i:i+seq_len])\n",
    "    \n",
    "    f_data = []\n",
    "    \n",
    "    for i, c in enumerate(split_context):\n",
    "        f_data.append(\n",
    "            {'qas': \n",
    "              [{'question': question,\n",
    "               'id': i,\n",
    "               'answers': [{'text': ' ', 'answer_start': 0}],\n",
    "               'is_impossible': False}],\n",
    "              'context': c\n",
    "            })\n",
    "        \n",
    "    prediction = model.predict(f_data)\n",
    "    if debug:\n",
    "        print(prediction)\n",
    "    preds = [x['answer'].lower() for x in prediction]\n",
    "    return max(set(preds), key = preds.count)"
   ]
  },
  {
   "cell_type": "code",
   "execution_count": 60,
   "metadata": {},
   "outputs": [],
   "source": [
    "def q_to_a(model, question, n=2, debug=False):\n",
    "    context = query_to_text(question, n=n)\n",
    "    pred = predict_answer(model, question, context, debug=debug)\n",
    "    return pred"
   ]
  },
  {
   "cell_type": "code",
   "execution_count": 5,
   "metadata": {},
   "outputs": [],
   "source": [
    "model = create_model()"
   ]
  },
  {
   "cell_type": "code",
   "execution_count": 6,
   "metadata": {},
   "outputs": [
    {
     "name": "stderr",
     "output_type": "stream",
     "text": [
      "100%|██████████| 1/1 [00:00<00:00, 436.23it/s]"
     ]
    },
    {
     "name": "stdout",
     "output_type": "stream",
     "text": [
      "Converting to features started.\n"
     ]
    },
    {
     "name": "stderr",
     "output_type": "stream",
     "text": [
      "\n"
     ]
    },
    {
     "data": {
      "application/vnd.jupyter.widget-view+json": {
       "model_id": "6eb29979330d4aaf8ff9233b88cb429c",
       "version_major": 2,
       "version_minor": 0
      },
      "text/plain": [
       "HBox(children=(IntProgress(value=0, max=1), HTML(value='')))"
      ]
     },
     "metadata": {},
     "output_type": "display_data"
    },
    {
     "name": "stdout",
     "output_type": "stream",
     "text": [
      "\n"
     ]
    },
    {
     "data": {
      "text/plain": [
       "[{'id': 0, 'answer': 'red'}]"
      ]
     },
     "execution_count": 6,
     "metadata": {},
     "output_type": "execute_result"
    }
   ],
   "source": [
    "predict_answer(model, 'what color is the bird?', 'the bird is red.')"
   ]
  },
  {
   "cell_type": "code",
   "execution_count": 32,
   "metadata": {},
   "outputs": [
    {
     "name": "stderr",
     "output_type": "stream",
     "text": [
      " 14%|█▎        | 13/95 [00:00<00:00, 127.41it/s]"
     ]
    },
    {
     "name": "stdout",
     "output_type": "stream",
     "text": [
      "Converting to features started.\n"
     ]
    },
    {
     "name": "stderr",
     "output_type": "stream",
     "text": [
      "100%|██████████| 95/95 [00:00<00:00, 150.34it/s]\n"
     ]
    },
    {
     "data": {
      "application/vnd.jupyter.widget-view+json": {
       "model_id": "a9e6cad1642e45deb655e12382f23b9f",
       "version_major": 2,
       "version_minor": 0
      },
      "text/plain": [
       "HBox(children=(IntProgress(value=0, max=12), HTML(value='')))"
      ]
     },
     "metadata": {},
     "output_type": "display_data"
    },
    {
     "name": "stdout",
     "output_type": "stream",
     "text": [
      "\n",
      "occipital bone\n"
     ]
    }
   ],
   "source": [
    "question = 'What is the bone on the back of your skull called?'\n",
    "context = query_to_text(question, n=3)\n",
    "pred = predict_answer(model, question, context)\n",
    "print(pred)"
   ]
  },
  {
   "cell_type": "code",
   "execution_count": 35,
   "metadata": {},
   "outputs": [
    {
     "name": "stderr",
     "output_type": "stream",
     "text": [
      " 33%|███▎      | 15/45 [00:00<00:00, 143.47it/s]"
     ]
    },
    {
     "name": "stdout",
     "output_type": "stream",
     "text": [
      "Converting to features started.\n"
     ]
    },
    {
     "name": "stderr",
     "output_type": "stream",
     "text": [
      "100%|██████████| 45/45 [00:00<00:00, 131.05it/s]\n"
     ]
    },
    {
     "data": {
      "application/vnd.jupyter.widget-view+json": {
       "model_id": "1da0c64dd4f34415b2c5593252335350",
       "version_major": 2,
       "version_minor": 0
      },
      "text/plain": [
       "HBox(children=(IntProgress(value=0, max=6), HTML(value='')))"
      ]
     },
     "metadata": {},
     "output_type": "display_data"
    },
    {
     "name": "stdout",
     "output_type": "stream",
     "text": [
      "\n"
     ]
    },
    {
     "data": {
      "text/plain": [
       "'occipital bone'"
      ]
     },
     "execution_count": 35,
     "metadata": {},
     "output_type": "execute_result"
    }
   ],
   "source": [
    "q_to_a(model, 'What is the bone on the back of your skull called?')"
   ]
  },
  {
   "cell_type": "code",
   "execution_count": 45,
   "metadata": {},
   "outputs": [],
   "source": [
    "model = create_model()"
   ]
  },
  {
   "cell_type": "code",
   "execution_count": 54,
   "metadata": {},
   "outputs": [
    {
     "data": {
      "application/vnd.jupyter.widget-view+json": {
       "model_id": "d6a416ec594b4d5bb98f20db50f515e6",
       "version_major": 2,
       "version_minor": 0
      },
      "text/plain": [
       "Text(value='', description='Question:')"
      ]
     },
     "metadata": {},
     "output_type": "display_data"
    },
    {
     "data": {
      "application/vnd.jupyter.widget-view+json": {
       "model_id": "0c6e5c2880d648868136542089960625",
       "version_major": 2,
       "version_minor": 0
      },
      "text/plain": [
       "Button(description='Get an Answer', style=ButtonStyle())"
      ]
     },
     "metadata": {},
     "output_type": "display_data"
    },
    {
     "name": "stdout",
     "output_type": "stream",
     "text": [
      "How many fingers do humans have?\n"
     ]
    },
    {
     "name": "stderr",
     "output_type": "stream",
     "text": [
      " 28%|██▊       | 15/53 [00:00<00:00, 144.69it/s]"
     ]
    },
    {
     "name": "stdout",
     "output_type": "stream",
     "text": [
      "Converting to features started.\n"
     ]
    },
    {
     "name": "stderr",
     "output_type": "stream",
     "text": [
      "100%|██████████| 53/53 [00:00<00:00, 141.50it/s]\n"
     ]
    },
    {
     "data": {
      "application/vnd.jupyter.widget-view+json": {
       "model_id": "d121ee0d7a404c4fb68ca70e8eb04845",
       "version_major": 2,
       "version_minor": 0
      },
      "text/plain": [
       "HBox(children=(IntProgress(value=0, max=7), HTML(value='')))"
      ]
     },
     "metadata": {},
     "output_type": "display_data"
    },
    {
     "name": "stdout",
     "output_type": "stream",
     "text": [
      "\n",
      "Answer: \n"
     ]
    }
   ],
   "source": [
    "text = widgets.Text(description='Question:', width=300)\n",
    "display(text)\n",
    "\n",
    "button = widgets.Button(description='Get an Answer')\n",
    "display(button)\n",
    "\n",
    "def on_button_click(b)\n",
    "    answer = q_to_a(model, text.value)\n",
    "    print('Answer:', answer)\n",
    "    \n",
    "button.on_click(on_button_click)"
   ]
  },
  {
   "cell_type": "code",
   "execution_count": 57,
   "metadata": {},
   "outputs": [
    {
     "name": "stderr",
     "output_type": "stream",
     "text": [
      " 32%|███▏      | 17/53 [00:00<00:00, 167.23it/s]"
     ]
    },
    {
     "name": "stdout",
     "output_type": "stream",
     "text": [
      "Converting to features started.\n"
     ]
    },
    {
     "name": "stderr",
     "output_type": "stream",
     "text": [
      "100%|██████████| 53/53 [00:00<00:00, 150.85it/s]\n"
     ]
    },
    {
     "data": {
      "application/vnd.jupyter.widget-view+json": {
       "model_id": "2e77ce157eb04ed3b2ebfe37defa7e62",
       "version_major": 2,
       "version_minor": 0
      },
      "text/plain": [
       "HBox(children=(IntProgress(value=0, max=7), HTML(value='')))"
      ]
     },
     "metadata": {},
     "output_type": "display_data"
    },
    {
     "name": "stdout",
     "output_type": "stream",
     "text": [
      "\n"
     ]
    },
    {
     "data": {
      "text/plain": [
       "''"
      ]
     },
     "execution_count": 57,
     "metadata": {},
     "output_type": "execute_result"
    }
   ],
   "source": [
    "q_to_a(model, 'How many fingers do humans have?')"
   ]
  },
  {
   "cell_type": "code",
   "execution_count": 62,
   "metadata": {},
   "outputs": [
    {
     "name": "stderr",
     "output_type": "stream",
     "text": [
      " 32%|███▏      | 17/53 [00:00<00:00, 165.33it/s]"
     ]
    },
    {
     "name": "stdout",
     "output_type": "stream",
     "text": [
      "Converting to features started.\n"
     ]
    },
    {
     "name": "stderr",
     "output_type": "stream",
     "text": [
      "100%|██████████| 53/53 [00:00<00:00, 149.82it/s]\n"
     ]
    },
    {
     "data": {
      "application/vnd.jupyter.widget-view+json": {
       "model_id": "11bc2daca6af452ca5cadf0a102b3d7b",
       "version_major": 2,
       "version_minor": 0
      },
      "text/plain": [
       "HBox(children=(IntProgress(value=0, max=7), HTML(value='')))"
      ]
     },
     "metadata": {},
     "output_type": "display_data"
    },
    {
     "name": "stdout",
     "output_type": "stream",
     "text": [
      "\n",
      "[{'id': 0, 'answer': ''}, {'id': 1, 'answer': 'How many'}, {'id': 2, 'answer': 'four'}, {'id': 3, 'answer': 'four'}, {'id': 4, 'answer': 'five'}, {'id': 5, 'answer': 'five'}, {'id': 6, 'answer': 'thumb'}, {'id': 7, 'answer': ''}, {'id': 8, 'answer': ''}, {'id': 9, 'answer': '356'}, {'id': 10, 'answer': ''}, {'id': 11, 'answer': '443cf72c056c479de112086ea9ccadf9-235x124.jpeg'}, {'id': 12, 'answer': ''}, {'id': 13, 'answer': '2019'}, {'id': 14, 'answer': ''}, {'id': 15, 'answer': 'five'}, {'id': 16, 'answer': 'five'}, {'id': 17, 'answer': 'five'}, {'id': 18, 'answer': 'four'}, {'id': 19, 'answer': ''}, {'id': 20, 'answer': 'two'}, {'id': 21, 'answer': 'Fingers do not contain muscles'}, {'id': 22, 'answer': 'two'}, {'id': 23, 'answer': 'human thumb also has other muscles in the thenar group'}, {'id': 24, 'answer': 'two'}, {'id': 25, 'answer': 'small finger'}, {'id': 26, 'answer': '5'}, {'id': 27, 'answer': '6'}, {'id': 28, 'answer': '8'}, {'id': 29, 'answer': 'fingertips.[8] ### Brain representation Each finger'}, {'id': 30, 'answer': '32'}, {'id': 31, 'answer': '13'}, {'id': 32, 'answer': '500'}, {'id': 33, 'answer': 'seven'}, {'id': 34, 'answer': '17'}, {'id': 35, 'answer': 'five'}, {'id': 36, 'answer': '380 3'}, {'id': 37, 'answer': ''}, {'id': 38, 'answer': ''}, {'id': 39, 'answer': ''}, {'id': 40, 'answer': ''}, {'id': 41, 'answer': '16'}, {'id': 42, 'answer': ''}, {'id': 43, 'answer': ''}, {'id': 44, 'answer': ''}, {'id': 45, 'answer': ''}, {'id': 46, 'answer': ''}, {'id': 47, 'answer': '926793311'}, {'id': 48, 'answer': '2017'}, {'id': 49, 'answer': ''}, {'id': 50, 'answer': ''}, {'id': 51, 'answer': ''}, {'id': 52, 'answer': ''}]\n"
     ]
    }
   ],
   "source": [
    "answer = q_to_a(model, 'How many fingers do humans have?', debug=True)"
   ]
  },
  {
   "cell_type": "code",
   "execution_count": 61,
   "metadata": {},
   "outputs": [
    {
     "ename": "TypeError",
     "evalue": "query_to_text() got an unexpected keyword argument 'debug'",
     "output_type": "error",
     "traceback": [
      "\u001b[0;31m---------------------------------------------------------------------------\u001b[0m",
      "\u001b[0;31mTypeError\u001b[0m                                 Traceback (most recent call last)",
      "\u001b[0;32m<ipython-input-61-2c5d8914128b>\u001b[0m in \u001b[0;36m<module>\u001b[0;34m\u001b[0m\n\u001b[0;32m----> 1\u001b[0;31m \u001b[0mquery_to_text\u001b[0m\u001b[0;34m(\u001b[0m\u001b[0;34m'How many fingers do humans have?'\u001b[0m\u001b[0;34m,\u001b[0m \u001b[0mn\u001b[0m\u001b[0;34m=\u001b[0m\u001b[0;36m2\u001b[0m\u001b[0;34m,\u001b[0m \u001b[0mdebug\u001b[0m\u001b[0;34m=\u001b[0m\u001b[0;32mTrue\u001b[0m\u001b[0;34m)\u001b[0m\u001b[0;34m\u001b[0m\u001b[0;34m\u001b[0m\u001b[0m\n\u001b[0m",
      "\u001b[0;31mTypeError\u001b[0m: query_to_text() got an unexpected keyword argument 'debug'"
     ]
    }
   ],
   "source": [
    "query_to_text('How many fingers do humans have?', n=2)"
   ]
  }
 ],
 "metadata": {
  "kernelspec": {
   "display_name": "Python 3",
   "language": "python",
   "name": "python3"
  },
  "language_info": {
   "codemirror_mode": {
    "name": "ipython",
    "version": 3
   },
   "file_extension": ".py",
   "mimetype": "text/x-python",
   "name": "python",
   "nbconvert_exporter": "python",
   "pygments_lexer": "ipython3",
   "version": "3.6.8"
  }
 },
 "nbformat": 4,
 "nbformat_minor": 2
}
